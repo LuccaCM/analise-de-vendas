{
 "cells": [
  {
   "cell_type": "markdown",
   "id": "d1093801",
   "metadata": {},
   "source": [
    "# Análise de Vendas"
   ]
  },
  {
   "cell_type": "markdown",
   "id": "3c259ace",
   "metadata": {},
   "source": [
    "# Introdução\n",
    "\n",
    "Neste projeto, realizamos uma análise exploratória sobre os dados de vendas de uma empresa fictícia. O foco é entender o desempenho por período, categoria e produto."
   ]
  },
  {
   "cell_type": "markdown",
   "id": "5796287a",
   "metadata": {},
   "source": [
    "# Importação de Bibliotecas"
   ]
  },
  {
   "cell_type": "code",
   "execution_count": 1,
   "id": "330add79",
   "metadata": {},
   "outputs": [],
   "source": [
    "# Import das bibliotecas\n",
    "\n",
    "import pandas as pd\n",
    "import matplotlib.pyplot as plt\n"
   ]
  },
  {
   "cell_type": "markdown",
   "id": "cc8433a4",
   "metadata": {},
   "source": [
    "# Carregamento e Visualização Inicial dos Dados"
   ]
  },
  {
   "cell_type": "code",
   "execution_count": 3,
   "id": "6b65051c",
   "metadata": {},
   "outputs": [],
   "source": [
    "# Carregando o dataset\n",
    "\n",
    "df = pd.read_csv('Vendas.csv', parse_dates=['Data'])"
   ]
  },
  {
   "cell_type": "code",
   "execution_count": 4,
   "id": "44253ca2",
   "metadata": {},
   "outputs": [
    {
     "data": {
      "text/html": [
       "<div>\n",
       "<style scoped>\n",
       "    .dataframe tbody tr th:only-of-type {\n",
       "        vertical-align: middle;\n",
       "    }\n",
       "\n",
       "    .dataframe tbody tr th {\n",
       "        vertical-align: top;\n",
       "    }\n",
       "\n",
       "    .dataframe thead th {\n",
       "        text-align: right;\n",
       "    }\n",
       "</style>\n",
       "<table border=\"1\" class=\"dataframe\">\n",
       "  <thead>\n",
       "    <tr style=\"text-align: right;\">\n",
       "      <th></th>\n",
       "      <th>Data</th>\n",
       "      <th>Produto</th>\n",
       "      <th>Categoria</th>\n",
       "      <th>Preço</th>\n",
       "      <th>Quantidade</th>\n",
       "    </tr>\n",
       "  </thead>\n",
       "  <tbody>\n",
       "    <tr>\n",
       "      <th>0</th>\n",
       "      <td>2024-01-05</td>\n",
       "      <td>Camisa</td>\n",
       "      <td>Camisetas</td>\n",
       "      <td>79.9</td>\n",
       "      <td>2</td>\n",
       "    </tr>\n",
       "    <tr>\n",
       "      <th>1</th>\n",
       "      <td>2024-01-10</td>\n",
       "      <td>Calça</td>\n",
       "      <td>Calças</td>\n",
       "      <td>119.9</td>\n",
       "      <td>1</td>\n",
       "    </tr>\n",
       "    <tr>\n",
       "      <th>2</th>\n",
       "      <td>2024-01-15</td>\n",
       "      <td>Tênis</td>\n",
       "      <td>Calçados</td>\n",
       "      <td>249.9</td>\n",
       "      <td>1</td>\n",
       "    </tr>\n",
       "    <tr>\n",
       "      <th>3</th>\n",
       "      <td>2024-02-03</td>\n",
       "      <td>Camisa</td>\n",
       "      <td>Camisetas</td>\n",
       "      <td>79.9</td>\n",
       "      <td>1</td>\n",
       "    </tr>\n",
       "    <tr>\n",
       "      <th>4</th>\n",
       "      <td>2024-02-10</td>\n",
       "      <td>Tênis</td>\n",
       "      <td>Calçados</td>\n",
       "      <td>249.9</td>\n",
       "      <td>2</td>\n",
       "    </tr>\n",
       "  </tbody>\n",
       "</table>\n",
       "</div>"
      ],
      "text/plain": [
       "        Data Produto  Categoria  Preço  Quantidade\n",
       "0 2024-01-05  Camisa  Camisetas   79.9           2\n",
       "1 2024-01-10   Calça     Calças  119.9           1\n",
       "2 2024-01-15   Tênis   Calçados  249.9           1\n",
       "3 2024-02-03  Camisa  Camisetas   79.9           1\n",
       "4 2024-02-10   Tênis   Calçados  249.9           2"
      ]
     },
     "execution_count": 4,
     "metadata": {},
     "output_type": "execute_result"
    }
   ],
   "source": [
    "# Primeiros dados:\n",
    "df.head()"
   ]
  },
  {
   "cell_type": "markdown",
   "id": "a71f8af0",
   "metadata": {},
   "source": [
    "# Cálculo da Receita Total"
   ]
  },
  {
   "cell_type": "code",
   "execution_count": 5,
   "id": "47be6c14",
   "metadata": {},
   "outputs": [],
   "source": [
    "# Calculando receita:\n",
    "\n",
    "df['Receita'] = df['Preço'] * df['Quantidade']"
   ]
  },
  {
   "cell_type": "markdown",
   "id": "a3c126d3",
   "metadata": {},
   "source": [
    "# Análise da Receita Mensal"
   ]
  },
  {
   "cell_type": "code",
   "execution_count": 6,
   "id": "e65a3eea",
   "metadata": {},
   "outputs": [],
   "source": [
    "# Receita total por mês:\n",
    "\n",
    "df['AnoMes'] = df['Data'].dt.to_period('M')\n",
    "receita_mensal = df.groupby('AnoMes')['Receita'].sum()"
   ]
  },
  {
   "cell_type": "code",
   "execution_count": 7,
   "id": "51856634",
   "metadata": {},
   "outputs": [
    {
     "name": "stdout",
     "output_type": "stream",
     "text": [
      "\n",
      "Receita Mensal:\n",
      "AnoMes\n",
      "2024-01    529.6\n",
      "2024-02    579.7\n",
      "2024-03    439.6\n",
      "Freq: M, Name: Receita, dtype: float64\n"
     ]
    }
   ],
   "source": [
    "# Vizualizar a receita mensal:\n",
    "\n",
    "print(\"\\nReceita Mensal:\")\n",
    "print(receita_mensal)"
   ]
  },
  {
   "cell_type": "markdown",
   "id": "6574adf8",
   "metadata": {},
   "source": [
    "# Produtos Mais Vendidos"
   ]
  },
  {
   "cell_type": "code",
   "execution_count": 8,
   "id": "4844fe16",
   "metadata": {},
   "outputs": [
    {
     "name": "stdout",
     "output_type": "stream",
     "text": [
      "\n",
      "Produtos mais vendidos:\n",
      "Produto\n",
      "Camisa     6\n",
      "Tênis      3\n",
      "Calça      1\n",
      "Jaqueta    1\n",
      "Name: Quantidade, dtype: int64\n"
     ]
    }
   ],
   "source": [
    "# Produto mais vendido (em quantidade)\n",
    "\n",
    "mais_vendido = df.groupby('Produto')['Quantidade'].sum().sort_values(ascending=False)\n",
    "print(\"\\nProdutos mais vendidos:\")\n",
    "print(mais_vendido)"
   ]
  },
  {
   "cell_type": "markdown",
   "id": "941a6b38",
   "metadata": {},
   "source": [
    "# Receita por Categoria"
   ]
  },
  {
   "cell_type": "code",
   "execution_count": 9,
   "id": "d9cd8195",
   "metadata": {},
   "outputs": [
    {
     "name": "stdout",
     "output_type": "stream",
     "text": [
      "\n",
      "Receita por categoria:\n",
      "Categoria\n",
      "Calçados     749.7\n",
      "Camisetas    479.4\n",
      "Jaquetas     199.9\n",
      "Calças       119.9\n",
      "Name: Receita, dtype: float64\n"
     ]
    }
   ],
   "source": [
    "# Receita por categoria\n",
    "\n",
    "receita_categoria = df.groupby('Categoria')['Receita'].sum().sort_values(ascending=False)\n",
    "print(\"\\nReceita por categoria:\")\n",
    "print(receita_categoria)"
   ]
  },
  {
   "cell_type": "markdown",
   "id": "0fa05a8c",
   "metadata": {},
   "source": [
    "# Gráficos para a analise"
   ]
  },
  {
   "cell_type": "code",
   "execution_count": 10,
   "id": "f51b3d71",
   "metadata": {},
   "outputs": [
    {
     "data": {
      "image/png": "[encoded data removed]",
      "text/plain": [
       "<Figure size 432x288 with 1 Axes>"
      ]
     },
     "metadata": {
      "needs_background": "light"
     },
     "output_type": "display_data"
    }
   ],
   "source": [
    "# Gráfico de barras da receita por categoria\n",
    "\n",
    "receita_categoria.plot(kind='bar', title='Receita por Categoria', ylabel='R$')\n",
    "plt.tight_layout()\n",
    "plt.show()"
   ]
  },
  {
   "cell_type": "code",
   "execution_count": 11,
   "id": "79e11e74",
   "metadata": {},
   "outputs": [
    {
     "data": {
      "image/png": "[encoded data removed]",
      "text/plain": [
       "<Figure size 432x288 with 1 Axes>"
      ]
     },
     "metadata": {
      "needs_background": "light"
     },
     "output_type": "display_data"
    }
   ],
   "source": [
    "# Gráfico de barras dos produtos mais vendidos\n",
    "\n",
    "mais_vendido.plot(kind='bar', title='Produtos mais Vendidos (Quantidade)', ylabel='Unidades Vendidas', color='skyblue')\n",
    "plt.tight_layout()\n",
    "plt.show()"
   ]
  },
  {
   "cell_type": "code",
   "execution_count": 12,
   "id": "3ad412ed",
   "metadata": {},
   "outputs": [
    {
     "data": {
      "image/png": "[encoded data removed]",
      "text/plain": [
       "<Figure size 432x288 with 1 Axes>"
      ]
     },
     "metadata": {},
     "output_type": "display_data"
    }
   ],
   "source": [
    "receita_categoria.plot(kind='pie', autopct='%1.1f%%', title='Receita por Categoria', ylabel='')\n",
    "plt.tight_layout()\n",
    "plt.show()\n"
   ]
  },
  {
   "cell_type": "markdown",
   "id": "f45e7806",
   "metadata": {},
   "source": [
    "# Conclusão\n",
    "\n",
    "Através desta análise exploratória, foi possível obter uma visão clara sobre o desempenho de vendas da empresa. Observamos os seguintes pontos principais:\n",
    "\n",
    "° A **receita mensal** apresentou variações ao longo do período analisado, evidenciando possíveis sazonalidades ou efeitos de campanhas de venda.\n",
    "\n",
    "° Os **produtos mais vendidos** em termos de quantidade indicam quais itens têm maior demanda, o que pode ser útil para estratégias de estoque e marketing.\n",
    "\n",
    "° A análise de **receita por categoria** revelou quais segmentos de produtos geram maior faturamento, auxiliando a empresa na definição de prioridades comerciais e investimentos.\n",
    "\n",
    "Esses insights podem apoiar a equipe de gestão comercial na tomada de decisões mais estratégicas, como ações promocionais, foco em determinados produtos ou planejamento de compras."
   ]
  }
 ],
 "metadata": {
  "kernelspec": {
   "display_name": "Python 3",
   "language": "python",
   "name": "python3"
  },
  "language_info": {
   "codemirror_mode": {
    "name": "ipython",
    "version": 3
   },
   "file_extension": ".py",
   "mimetype": "text/x-python",
   "name": "python",
   "nbconvert_exporter": "python",
   "pygments_lexer": "ipython3",
   "version": "3.8.8"
  }
 },
 "nbformat": 4,
 "nbformat_minor": 5
}
